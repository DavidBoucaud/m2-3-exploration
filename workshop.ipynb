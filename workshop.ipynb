{
 "cells": [
  {
   "cell_type": "markdown",
   "metadata": {},
   "source": [
    "# 1.1 Birth Rates\n",
    "\n",
    "The data on US births, provided by the CDC is in `data/births.csv`.\n",
    "\n",
    "Reproduce the following plot of births by gender over time given the data:\n",
    "\n",
    "![](births_gender.png)\n",
    "\n",
    "Note the `1e6` on the y axis for scale"
   ]
  },
  {
   "cell_type": "markdown",
   "metadata": {},
   "source": [
    "# 1.2 Births anomalies\n",
    "\n",
    "This was analyzed by beloved statistician Andrew Gelman [here](http://andrewgelman.com/2012/06/14/cool-ass-signal-processing-using-gaussian-processes/), leading to this plot:\n",
    "\n",
    "![](births_gp100.png)\n",
    "\n",
    "Explain all three plots in Gelman's figure. \n",
    "\n",
    "**1.2:** What is the periodic component? What is the residual? Use your research skills to learn then explain it (in english)."
   ]
  },
  {
   "cell_type": "markdown",
   "metadata": {},
   "source": [
    "# 1.3 Holiday Anomalies Plot\n",
    "\n",
    "Reproduce *as best you can* the first of the 3 figures from Andrew Gelman's blog post (your plot may have small differences)\n",
    "\n",
    "**1.3.1:** Reproduce the births line in a plot. Hint: Make the x axis a `pd.datetime` object\n",
    "\n",
    "**1.3.2:** Reproduce the `smoothed` line. Hint: use a rolling window average\n",
    "\n",
    "**1.3.3:** Reproduce the entire figure with the mean line as a horizontal. You can make the y axis total births instead of a % deviation from mean axis (they'll look the same anyway)"
   ]
  },
  {
   "cell_type": "markdown",
   "metadata": {},
   "source": [
    "# 2. Recipe Database\n",
    "\n",
    "### 2.1 \n",
    "\n",
    "Load the JSON recipe database we saw in lecture 4.\n",
    "\n",
    "How many of the recipes are for breakfast food? Hint: The `description` would contain the work \"breakfast\""
   ]
  },
  {
   "cell_type": "markdown",
   "metadata": {},
   "source": [
    "### 2.2 A simple recipe recommender\n",
    "\n",
    "Let's build a recipe recommender: given a list of basic ingredients, find a recipe that uses all those ingredients.\n",
    "\n",
    "Here is the list of ingredients that can be asked for:\n",
    "\n",
    "```\n",
    "['salt', 'pepper', 'oregano', 'sage', 'parsley',\n",
    " 'rosemary', 'tarragon', 'thyme', 'paprika', 'cumin']\n",
    "```\n",
    "\n",
    "**Hint:** Build a new column for each of the ingredients that indicates whether that ingredient is in the recipe.\n",
    "\n",
    "**example:**\n",
    "```\n",
    "recommend_ingredients([\"parsley\", \"paprika\", \"tarragon\"], df)\n",
    "\n",
    "result: \n",
    "# The rows where these 3 ingredients are in the recipe\n",
    "[2069, 74964, 93768, 113926, 137686, 140530, 158475, 158486, 163175, 165243]\n",
    "```"
   ]
  },
  {
   "cell_type": "markdown",
   "metadata": {},
   "source": [
    "# 3. Movies!\n",
    "\n",
    "Recall the [Movies Dataset](https://www.kaggle.com/rounakbanik/the-movies-dataset) from lecture 4. It's made up of several tables which we've played with in lecture 4.\n",
    "\n",
    "The tables have common columns (`id` and `movie_id`) around which you can merge and join tables.\n",
    "\n",
    "### 3.1 best director\n",
    "\n",
    "Your task is to find **The best director** in terms of average ratings of his movies. This can be from the `ratings` or `ratings_small` table, or simply the vote average in the `metadata` table. The director can be found in the `cast` table.\n",
    "\n",
    "You will have to use all of your skills to get this done, between using groupbys and merging multiple tables together"
   ]
  }
 ],
 "metadata": {
  "kernelspec": {
   "display_name": "Python 3",
   "language": "python",
   "name": "python3"
  },
  "language_info": {
   "codemirror_mode": {
    "name": "ipython",
    "version": 3
   },
   "file_extension": ".py",
   "mimetype": "text/x-python",
   "name": "python",
   "nbconvert_exporter": "python",
   "pygments_lexer": "ipython3",
   "version": "3.7.4"
  }
 },
 "nbformat": 4,
 "nbformat_minor": 4
}