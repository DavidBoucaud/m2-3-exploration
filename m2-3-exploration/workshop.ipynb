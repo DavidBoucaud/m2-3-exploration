{
 "cells": [
  {
   "cell_type": "code",
   "execution_count": null,
   "metadata": {},
   "outputs": [],
   "source": [
    "import matplotlib.pyplot as plt\n",
    "import numpy as np\n",
    "import pandas as pd\n",
    "import math\n",
    "from scipy.stats import norm\n",
    "from random import uniform\n",
    "import seaborn as sns"
   ]
  },
  {
   "cell_type": "markdown",
   "metadata": {},
   "source": [
    "# 1.1 Birth Rates\n",
    "\n",
    "The data on US births, provided by the CDC is in `data/births.csv`.\n",
    "\n",
    "Reproduce the following plot of births by gender over time given the data:\n",
    "\n",
    "![](births_gender.png)\n",
    "\n",
    "Note the `1e6` on the y axis for scale"
   ]
  },
  {
   "cell_type": "code",
   "execution_count": null,
   "metadata": {},
   "outputs": [],
   "source": [
    "df = pd.read_csv(r'C:\\Users\\David\\Documents\\code\\Module 2\\m2-3-exploration\\data\\births.csv')\n",
    "df.groupby(['year' , 'gender']).births.sum().unstack().plot()"
   ]
  },
  {
   "cell_type": "markdown",
   "metadata": {},
   "source": [
    "# 1.2 Births anomalies\n",
    "\n",
    "This was analyzed by beloved statistician Andrew Gelman [here](http://andrewgelman.com/2012/06/14/cool-ass-signal-processing-using-gaussian-processes/), leading to this plot:\n",
    "\n",
    "![](births_gp100.png)\n",
    "\n",
    "Explain all three plots in Gelman's figure. \n",
    "\n",
    "**1.2:** What is the periodic component? What is the residual? Use your research skills to learn then explain it (in english)."
   ]
  },
  {
   "source": [
    "#1.2.\n",
    "\n",
    "To begin, this plot depicts the births by day. The black line represents the daily % deviation from the mean line, which is represeted in red. Finally, the blue line is a smoothed line showing a rolling average.\n",
    "\n",
    "Periodic Component: A periodic component uses constructive interference to clear noise, thus giving us a clearer view into periodic changes and other anomolies in the plot. For instance, on the upper most plot, the daily birth line fluctuates so regularily that you might miss particularily high or low trends. On the middle graph, you can observe strong trends in the 'arkened' portion of the plot.\n",
    "\n",
    "Residual: Simply put, a residual is the distance between a point and the regression line (or in this case, a rolling average). The bottom plot takes all the points from the original plot, and represents them by their distance from the smoothed line. This allows us to see how close the smoothed line is to the true observations."
   ],
   "cell_type": "markdown",
   "metadata": {}
  },
  {
   "cell_type": "markdown",
   "metadata": {},
   "source": [
    "# 1.3 Holiday Anomalies Plot\n",
    "\n",
    "Reproduce *as best you can* the first of the 3 figures from Andrew Gelman's blog post (your plot may have small differences)\n",
    "\n",
    "**1.3.1:** Reproduce the births line in a plot. Hint: Make the x axis a `pd.datetime` object\n",
    "\n",
    "**1.3.2:** Reproduce the `smoothed` line. Hint: use a rolling window average\n",
    "\n",
    "**1.3.3:** Reproduce the entire figure with the mean line as a horizontal. You can make the y axis total births instead of a % deviation from mean axis (they'll look the same anyway)"
   ]
  },
  {
   "cell_type": "code",
   "execution_count": null,
   "metadata": {},
   "outputs": [],
   "source": [
    "import datetime\n",
    "from scipy.ndimage.filters import gaussian_filter1d\n",
    "\n",
    "df = pd.read_csv(r'C:\\Users\\David\\Documents\\code\\Module 2\\m2-3-exploration\\data\\births.csv')\n",
    "\n",
    "#A bit of data cleaning\n",
    "df = df.dropna()\n",
    "df = df.loc[df['day'] != 99]\n",
    "\n",
    "#The above plot only uses one year, so I will do the same.\n",
    "df = df.loc[df['year'] == 1980]\n",
    "\n",
    "#Create the datetime\n",
    "df.day = df.day.astype(int)\n",
    "df['time'] = pd.to_datetime(df[['year', 'month', 'day']], errors='coerce')\n",
    "\n",
    "#Get our y-variables\n",
    "df = df.groupby(['time']).sum()\n",
    "ysmoothed = gaussian_filter1d(df.births, sigma=10)\n",
    "\n",
    "#And plot\n",
    "fig, ax = plt.subplots(figsize=(10, 6))\n",
    "\n",
    "ax.hlines(y=df.births.mean(), xmin = df.index.min(), xmax= df.index.max(), label='Mean', colors='r')\n",
    "plt.plot(df.index, df.births, lw=1, label='Births', color='black')\n",
    "plt.plot(df.index, ysmoothed, label='Smoothed', color='b')\n",
    "\n",
    "ax.legend()\n",
    "plt.show()"
   ]
  },
  {
   "cell_type": "markdown",
   "metadata": {},
   "source": [
    "# 2. Recipe Database\n",
    "\n",
    "### 2.1 \n",
    "\n",
    "Load the JSON recipe database we saw in lecture 4.\n",
    "\n",
    "How many of the recipes are for breakfast food? Hint: The `description` would contain the work \"breakfast\""
   ]
  },
  {
   "cell_type": "code",
   "execution_count": null,
   "metadata": {},
   "outputs": [],
   "source": [
    "import json\n",
    "import gzip\n",
    "\n",
    "with gzip.open(r'C:\\Users\\David\\Documents\\code\\Module 2\\recipe.json.gz', 'r') as f:\n",
    "    data = (line.strip().decode() for line in f)\n",
    "    data_json = f\"[{','.join(data)}]\"\n",
    "\n",
    "recipes = pd.read_json(data_json)\n",
    "\n",
    "print('The number of breakfast recipes is:', len( recipes[recipes.description.str.contains(\"breakfast\", na=False)] ) )"
   ]
  },
  {
   "cell_type": "markdown",
   "metadata": {},
   "source": [
    "### 2.2 A simple recipe recommender\n",
    "\n",
    "Let's build a recipe recommender: given a list of basic ingredients, find a recipe that uses all those ingredients.\n",
    "\n",
    "Here is the list of ingredients that can be asked for:\n",
    "\n",
    "```\n",
    "['salt', 'pepper', 'oregano', 'sage', 'parsley',\n",
    " 'rosemary', 'tarragon', 'thyme', 'paprika', 'cumin']\n",
    "```\n",
    "\n",
    "**Hint:** Build a new column for each of the ingredients that indicates whether that ingredient is in the recipe.\n",
    "\n",
    "**example:**\n",
    "```\n",
    "recommend_ingredients([\"parsley\", \"paprika\", \"tarragon\"], df)\n",
    "\n",
    "result: \n",
    "# The rows where these 3 ingredients are in the recipe\n",
    "[2069, 74964, 93768, 113926, 137686, 140530, 158475, 158486, 163175, 165243]\n",
    "```"
   ]
  },
  {
   "cell_type": "code",
   "execution_count": null,
   "metadata": {
    "tags": []
   },
   "outputs": [],
   "source": [
    "def recipe_ingredients(ingredients, recipes):\n",
    "    recipes['contain'] = 0\n",
    "    true = []\n",
    "\n",
    "    for element in ingredients:\n",
    "        true.append(\n",
    "            recipes[recipes.ingredients\n",
    "            .str.contains(element, na=False)]\n",
    "            .index)\n",
    "    for i in true:\n",
    "        recipes.contain[i] += 1\n",
    "    print(\n",
    "         'The rows where these', len(ingredients),'ingredients are in the recipe', \n",
    "     recipes[recipes['contain'] == len(ingredients)].index.tolist())\n",
    "        \n",
    "\n",
    "ingredients = [\"parsley\", \"paprika\", \"tarragon\"]\n",
    "\n",
    "\n",
    "recipe_ingredients(ingredients, recipes)"
   ]
  },
  {
   "cell_type": "markdown",
   "metadata": {},
   "source": [
    "# 3. Movies!\n",
    "\n",
    "Recall the [Movies Dataset](https://www.kaggle.com/rounakbanik/the-movies-dataset) from lecture 4. It's made up of several tables which we've played with in lecture 4.\n",
    "\n",
    "The tables have common columns (`id` and `movie_id`) around which you can merge and join tables.\n",
    "\n",
    "### 3.1 best director\n",
    "\n",
    "Your task is to find **The best director** in terms of average ratings of his movies. This can be from the `ratings` or `ratings_small` table, or simply the vote average in the `metadata` table. The director can be found in the `cast` table.\n",
    "\n",
    "You will have to use all of your skills to get this done, between using groupbys and merging multiple tables together"
   ]
  },
  {
   "cell_type": "code",
   "execution_count": 221,
   "metadata": {},
   "outputs": [],
   "source": [
    "cast_df = pd.read_csv(r'C:\\Users\\David\\Documents\\code\\Module 2\\archive\\credits.csv')\n",
    "ratings_df = pd.read_csv(r'C:\\Users\\David\\Documents\\code\\Module 2\\archive\\ratings.csv')"
   ]
  },
  {
   "cell_type": "code",
   "execution_count": 222,
   "metadata": {},
   "outputs": [
    {
     "output_type": "stream",
     "name": "stdout",
     "text": [
      "The top rated Director is  'name': \"Antonio D'Ambrosio\"\n"
     ]
    }
   ],
   "source": [
    "#The long process of cleaning the crew data and isolating the Director\n",
    "cast_df['Director'] = 0\n",
    "\n",
    "cast_df = cast_df.dropna()\n",
    "\n",
    "for i in cast_df.index:\n",
    "    cast_df.crew[i] = str(cast_df.crew[i]).replace(\" \\ / [] } { \", ' ')\n",
    "    cast_df.crew[i] = str(cast_df.crew[i]).split(',')\n",
    "    \n",
    "    if \" 'job': 'Director'\" in cast_df.crew[i]:\n",
    "        temp = cast_df.crew[i].index(\" 'job': 'Director'\") + 1\n",
    "        cast_df['Director'][i] = cast_df.crew[i][temp]\n",
    "    else:\n",
    "        pass\n",
    "\n",
    "cast_df = cast_df.loc[cast_df.Director != 0]\n",
    "\n",
    "#Merge the dataframes, groupby Director and sort by ratings value\n",
    "df = pd.merge(ratings_df, cast_df, left_on=ratings_df.movieId, right_on=cast_df.id, how='inner')\n",
    "df = df.groupby(['Director'], as_index=False).mean()\n",
    "df = df.sort_values(by = ['rating'], ascending=False)\n",
    "\n",
    "#now we just find our top Director\n",
    "the_director = df['Director'][0]\n",
    "\n",
    "print('The top rated Director is', the_director)"
   ]
  }
 ],
 "metadata": {
  "kernelspec": {
   "display_name": "Python 3",
   "language": "python",
   "name": "python3"
  },
  "language_info": {
   "codemirror_mode": {
    "name": "ipython",
    "version": 3
   },
   "file_extension": ".py",
   "mimetype": "text/x-python",
   "name": "python",
   "nbconvert_exporter": "python",
   "pygments_lexer": "ipython3",
   "version": "3.8.3-final"
  }
 },
 "nbformat": 4,
 "nbformat_minor": 4
}